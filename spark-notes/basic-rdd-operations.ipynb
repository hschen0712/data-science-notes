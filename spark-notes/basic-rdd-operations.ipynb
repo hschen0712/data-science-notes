{
 "cells": [
  {
   "cell_type": "markdown",
   "metadata": {},
   "source": [
    "本文介绍spark中RDD的基本操作。RDD全称是Resilient Distributed Datasets（即弹性分布式数据集），它是spark的一种抽象数据类型。\n"
   ]
  },
  {
   "cell_type": "markdown",
   "metadata": {},
   "source": [
    "## RDD的创建\n",
    "\n",
    "创建RDD的方法一般有两种，第一种方式是从外部读取数据集，另一种是在程序里生成。下面结合两个例子来演示spark中如何创建RDD。\n"
   ]
  },
  {
   "cell_type": "markdown",
   "metadata": {},
   "source": [
    "\n",
    "### 程序内部创建RDD\n",
    "下面通过一个例子来说明spark中创建RDD的方法，该例中我们首先在程序里初始化一个由一组整数组成的RDD，接着将这组整数平方。"
   ]
  },
  {
   "cell_type": "code",
   "execution_count": 1,
   "metadata": {},
   "outputs": [
    {
     "name": "stdout",
     "output_type": "stream",
     "text": [
      "1 \n",
      "4 \n",
      "9 \n",
      "16 \n"
     ]
    }
   ],
   "source": [
    "from pyspark import SparkContext\n",
    "sc = SparkContext(appName='square the numbers')\n",
    "nums = sc.parallelize([1,2,3,4])\n",
    "squared = nums.map(lambda x:x * x)\n",
    "for num in squared.collect():\n",
    "    print '%i '%num"
   ]
  },
  {
   "cell_type": "markdown",
   "metadata": {},
   "source": [
    "`SparkContext`是spark的上下文，任何spark程序都需要申请一个spark上下文来运行；通过`parallelize`方法，我们可以快速地在程序中生成一个RDD数据集；`collect`函数用于将rdd以list的形式载入到驱动程序的内存。\n"
   ]
  },
  {
   "cell_type": "markdown",
   "metadata": {},
   "source": [
    "### 外部读取数据集创建RDD\n",
    "\n"
   ]
  },
  {
   "cell_type": "code",
   "execution_count": 2,
   "metadata": {},
   "outputs": [
    {
     "name": "stdout",
     "output_type": "stream",
     "text": [
      "line 1:We've all heard the scare stories about North Korea: the homemade nuclear arsenal built while their people starve and then aimed imprecisely at the rest of the world, a \n",
      "line 2:leader so deluded he makes L Ron Hubbard look like a man excessively overburdened with self-doubt and their deep-seated belief that foreign capitalists will invade at any \n",
      "line 3:moment and steal all their bauxite.\n",
      "line 4:The popular portrayal of this Marxist nation is something like one of the more harrowing episodes of M*A*S*H, only with the cast of wacky characters replaced by twitchy, \n",
      "line 5:    heavily armed Stalinist meth addicts\n",
      "line 6:    Cracked would like to take a moment to celebrate the good things about North Korea though, the things that the country's enemies prefer to suppress as part of their politically \n",
      "line 7:    motivated jealousy. Like how no different to you and me, there's nothing every North Korean likes more after an 18 hour shift at the phosphorus plant than a nice beer to go with \n",
      "line 8:    his dried fish ration. Ever attentive to its people's needs and in the twinkling of a decade, North Korea's leadership bought, disassembled, transported and rebuilt a British \n",
      "line 9:    brewery in order to discover and reproduce the secrets of beer and then brew the sweet nectar for its hardworking people, up to 18 bottles at a time. And with minimal fatalities. \n",
      "line 10:    When was the last time YOUR leader got a beer for YOU, American? (NB do not answer this question if you are Henry Louis Gates).\n",
      "line 11:    Or how about the fried chicken restaurant that downtown Pyongyang boasts? Yes real chicken, fried and then delivered to your sleeping cube, with optional beer if you like! You \n",
      "line 12:    don't even have to remove the feathers or pull out the gizzard yourself. Mostly. Americans must eat their fried chicken from a bucket, like swine, sold by a company so secretive \n",
      "line 13:    that even the very blend of seasoning used is intentionally kept from them. And they call North Korea paranoid?\n",
      "line 14:    And how many nations would entertain the syphilitic, bourgeois ramblings of Bill Clinton let alone permit him anywhere near their proud womenfolk? Only wise Kim Jong Il could see \n",
      "line 15:    past Bill's many, many imperfections and treat him with the pity and kindness he deserves, accepting his feeble pleas to pardon the American spies rightly convicted of photographing \n",
      "line 16:    the nation's sensitive beetroot fields.\n"
     ]
    }
   ],
   "source": [
    "lines = sc.textFile('/home/hschen/Data/wordcount.txt')\n",
    "for i, line in enumerate(lines.collect()):\n",
    "    print 'line %d:%s'%(i+1, line)"
   ]
  },
  {
   "cell_type": "markdown",
   "metadata": {},
   "source": [
    "`sc.textFile()`方法用于从外部读取文本文件并创建RDD，该RDD由文本文件的所有行组成。"
   ]
  },
  {
   "cell_type": "markdown",
   "metadata": {},
   "source": [
    "# RDD基本操作\n",
    "\n",
    "RDD的操作符可以分为`transform`和`action`两类。\n",
    "\n",
    "-  `transform` \n",
    "\n",
    "transform的作用是将一个RDD映射到另一个RDD。\n",
    "\n",
    "-  `action` \n",
    "\n",
    "由于spark的计算采用的是lazy evaluation的机制，`transform`只是定义了一系列的变换操作，只有当程序执行`action`操作时才会有实质上的计算，其结果被返回给驱动程序或写入文件系统。\n",
    "\n",
    "如果你无法区分一个函数属于哪种操作，可以查看该函数的返回值。如果返回值是RDD，那么它是transform操作；如果返回的是其他的数据类型，那么就是action操作。"
   ]
  },
  {
   "cell_type": "markdown",
   "metadata": {},
   "source": [
    "## Spark的惰性计算机制\n",
    "\n",
    "前面提到，Spark的计算模型是一种惰性计算（Lazy Evaluation）的方式，这意味着`transform`操作并不会马上得到执行，而是等到`action`操作被调用时才一并执行。"
   ]
  },
  {
   "cell_type": "markdown",
   "metadata": {},
   "source": [
    "## 常用的transform操作\n",
    "\n",
    "常用的transform操作有：\n",
    "\n",
    "- `map`：对RDD中的每个元素执行相同的操作，并返回由操作的结果构成的RDD\n",
    "- `filter`：根据条件过滤数据，筛选条件判断为true的元素\n",
    "- `flatMap`：类似python的itertools.chain，把结果中所有可迭代对象里面的元素放在同一个可迭代对象内\n",
    "- `distinct`：rdd集合去重\n",
    "- `sample`：rdd集合随机抽样（有放回或无放回）\n",
    "\n"
   ]
  },
  {
   "cell_type": "markdown",
   "metadata": {},
   "source": [
    "### map操作符\n",
    "\n",
    "假设我们有一个RDD数据集{1,2,3,3}，我们通过map函数给RDD中每个元素加1"
   ]
  },
  {
   "cell_type": "code",
   "execution_count": 3,
   "metadata": {},
   "outputs": [
    {
     "name": "stdout",
     "output_type": "stream",
     "text": [
      "[2, 3, 4, 4]\n"
     ]
    }
   ],
   "source": [
    "nums = sc.parallelize([1,2,3,3])\n",
    "result = nums.map(lambda x:x + 1)\n",
    "print result.collect()"
   ]
  },
  {
   "cell_type": "markdown",
   "metadata": {},
   "source": [
    "### filter操作符\n",
    "\n",
    "假设我们想找出RDD中大于1的元素"
   ]
  },
  {
   "cell_type": "code",
   "execution_count": 4,
   "metadata": {},
   "outputs": [
    {
     "name": "stdout",
     "output_type": "stream",
     "text": [
      "[2, 3, 3]\n"
     ]
    }
   ],
   "source": [
    "result = nums.filter(lambda x:x > 1)\n",
    "print result.collect()"
   ]
  },
  {
   "cell_type": "markdown",
   "metadata": {},
   "source": [
    "### flatMap"
   ]
  },
  {
   "cell_type": "code",
   "execution_count": 5,
   "metadata": {},
   "outputs": [
    {
     "name": "stdout",
     "output_type": "stream",
     "text": [
      "[1, 100, 1, 2, 200, 4, 3, 300, 9, 3, 300, 9]\n"
     ]
    }
   ],
   "source": [
    "result = nums.flatMap(lambda x:(x, 100*x, x**2))\n",
    "print result.collect()"
   ]
  },
  {
   "cell_type": "markdown",
   "metadata": {},
   "source": [
    "### distinct\n",
    "我们用distinct操作符来对RDD中的元素进行去重"
   ]
  },
  {
   "cell_type": "code",
   "execution_count": 6,
   "metadata": {},
   "outputs": [
    {
     "name": "stdout",
     "output_type": "stream",
     "text": [
      "[1, 2, 3]\n"
     ]
    }
   ],
   "source": [
    "result = nums.distinct()\n",
    "print result.collect()"
   ]
  },
  {
   "cell_type": "markdown",
   "metadata": {},
   "source": [
    "### sample\n",
    "\n",
    "我们可以用sample操作符来对RDD中的元素进行无放回的采样"
   ]
  },
  {
   "cell_type": "code",
   "execution_count": 7,
   "metadata": {},
   "outputs": [
    {
     "name": "stdout",
     "output_type": "stream",
     "text": [
      "round 0\n",
      "[1, 2, 3]\n",
      "round 1\n",
      "[1, 2]\n",
      "round 2\n",
      "[1, 2, 3]\n",
      "round 3\n",
      "[2, 3, 3]\n",
      "round 4\n",
      "[3, 3]\n"
     ]
    }
   ],
   "source": [
    "for r in range(5):\n",
    "    result = nums.sample(False, 0.5)\n",
    "    print 'round %d'%r\n",
    "    print result.collect()"
   ]
  },
  {
   "cell_type": "markdown",
   "metadata": {},
   "source": [
    "## 常用的action操作\n",
    "\n",
    "常用的action操作\n",
    "- `reduce`:对RDD中的两个元素执行操作，返回相同类型\n",
    "- `collect`：返回rdd中所有的元素，执行collect操作时，驱动程序会从各个执行器收集数据并写入到内存，值得注意的是如果内存不够，该操作会失败，并发生内存溢出\n",
    "- `take(n)`:取rdd的前n个元素\n",
    "- `top(n)`：取rdd的top n个元素\n",
    "- `count`：rdd中有多少元素\n",
    "- `countByValue`：rdd中每个元素出现次数\n",
    "- `takeOrdered`：按指定顺序返回RDD中前n个元素\n",
    "- `takeSample`：随机返回n个元素（放回或无放回）\n",
    "- `fold`：与reduce功能相同，不同之处在于0作为初始值，而reduce以rdd的第一个元素作为初始值\n",
    "- `aggregate`：与reduce作用类似，不同的是可以返回与输入RDD不同的类型\n",
    "- `foreach`：遍历RDD中的元素。注意，如果对RDD执行foreach，只会在Executor端有效，而并不是Driver端。比如：rdd.foreach(println)，只会在Executor的stdout中打印出来，Driver端是看不到的。"
   ]
  },
  {
   "cell_type": "markdown",
   "metadata": {},
   "source": [
    "### reduce\n",
    "\n",
    "用reduce操作求RDD中所有元素之和"
   ]
  },
  {
   "cell_type": "code",
   "execution_count": 8,
   "metadata": {},
   "outputs": [
    {
     "data": {
      "text/plain": [
       "9"
      ]
     },
     "execution_count": 8,
     "metadata": {},
     "output_type": "execute_result"
    }
   ],
   "source": [
    "nums.reduce(lambda x,y:x+y)"
   ]
  },
  {
   "cell_type": "markdown",
   "metadata": {},
   "source": [
    "其中x代表返回值，y表示对RDD中每个元素的遍历"
   ]
  },
  {
   "cell_type": "markdown",
   "metadata": {},
   "source": [
    "### collect\n",
    "\n",
    "collect用于返回RDD中的所有元素"
   ]
  },
  {
   "cell_type": "code",
   "execution_count": 9,
   "metadata": {},
   "outputs": [
    {
     "name": "stdout",
     "output_type": "stream",
     "text": [
      "[1, 2, 3, 3]\n"
     ]
    }
   ],
   "source": [
    "print nums.collect()"
   ]
  },
  {
   "cell_type": "markdown",
   "metadata": {},
   "source": [
    "### take\n",
    "\n",
    "用take操作符返回RDD的前2个元素"
   ]
  },
  {
   "cell_type": "code",
   "execution_count": 10,
   "metadata": {},
   "outputs": [
    {
     "name": "stdout",
     "output_type": "stream",
     "text": [
      "[1, 2]\n"
     ]
    }
   ],
   "source": [
    "print nums.take(2)"
   ]
  },
  {
   "cell_type": "markdown",
   "metadata": {},
   "source": [
    "### top\n",
    "\n",
    "我们可以用top操作符取得RDD中top n的元素"
   ]
  },
  {
   "cell_type": "code",
   "execution_count": 11,
   "metadata": {},
   "outputs": [
    {
     "name": "stdout",
     "output_type": "stream",
     "text": [
      "[3, 3]\n"
     ]
    }
   ],
   "source": [
    "print nums.top(2)"
   ]
  },
  {
   "cell_type": "markdown",
   "metadata": {},
   "source": [
    "### count\n"
   ]
  },
  {
   "cell_type": "code",
   "execution_count": 12,
   "metadata": {},
   "outputs": [
    {
     "name": "stdout",
     "output_type": "stream",
     "text": [
      "4\n"
     ]
    }
   ],
   "source": [
    "print nums.count()"
   ]
  },
  {
   "cell_type": "markdown",
   "metadata": {},
   "source": [
    "### countByValue"
   ]
  },
  {
   "cell_type": "code",
   "execution_count": 13,
   "metadata": {},
   "outputs": [
    {
     "name": "stdout",
     "output_type": "stream",
     "text": [
      "key:1,count:1\n",
      "key:2,count:1\n",
      "key:3,count:2\n"
     ]
    }
   ],
   "source": [
    "result = nums.countByValue()\n",
    "for k,v in result.iteritems():\n",
    "    print 'key:{0},count:{1}'.format(k, v)"
   ]
  },
  {
   "cell_type": "markdown",
   "metadata": {},
   "source": [
    "### takeOrdered\n",
    "\n",
    "按降序排列，返回前3个元素"
   ]
  },
  {
   "cell_type": "code",
   "execution_count": 14,
   "metadata": {},
   "outputs": [
    {
     "name": "stdout",
     "output_type": "stream",
     "text": [
      "[3, 3, 2]\n"
     ]
    }
   ],
   "source": [
    "print nums.takeOrdered(3, lambda x:-x)"
   ]
  },
  {
   "cell_type": "markdown",
   "metadata": {},
   "source": [
    "### takeSample\n",
    "\n",
    "有放回地随机取出10个元素"
   ]
  },
  {
   "cell_type": "code",
   "execution_count": 15,
   "metadata": {},
   "outputs": [
    {
     "name": "stdout",
     "output_type": "stream",
     "text": [
      "[2, 2, 3, 2, 2, 1, 1, 2, 1, 2]\n"
     ]
    }
   ],
   "source": [
    "print nums.takeSample(True, 10)"
   ]
  },
  {
   "cell_type": "markdown",
   "metadata": {},
   "source": [
    "### fold\n"
   ]
  },
  {
   "cell_type": "code",
   "execution_count": 16,
   "metadata": {},
   "outputs": [
    {
     "data": {
      "text/plain": [
       "9"
      ]
     },
     "execution_count": 16,
     "metadata": {},
     "output_type": "execute_result"
    }
   ],
   "source": [
    "nums.fold(0, lambda x, y: x + y)"
   ]
  },
  {
   "cell_type": "markdown",
   "metadata": {},
   "source": [
    "### aggregate\n",
    "\n",
    "aggregate与reduce不同的是可以返回与输入RDD不同的类型。这个例子中，我们用aggregate操作符分别计算RDD集合的累加和计数，然后求得RDD中元素的平均值"
   ]
  },
  {
   "cell_type": "code",
   "execution_count": 17,
   "metadata": {
    "scrolled": true
   },
   "outputs": [
    {
     "name": "stdout",
     "output_type": "stream",
     "text": [
      "average is:2.25\n"
     ]
    }
   ],
   "source": [
    "seqOp = lambda x, y: (x[0] + y, x[1] + 1)\n",
    "combOp = lambda x, y: (x[0] + y[0], x[1] + y[1])\n",
    "neutral_zero_value = (0, 0)\n",
    "result = nums.aggregate(neutral_zero_value, seqOp,combOp)\n",
    "total, cnt = result\n",
    "print 'average is:{}'.format(total/ float(cnt))"
   ]
  },
  {
   "cell_type": "markdown",
   "metadata": {},
   "source": [
    "解读一下这段代码。上文介绍`reduce`操作符的时候提到匿名函数 \n",
    "```py\n",
    "lambda x,y:x+y\n",
    "```\n",
    "\n",
    "中x代表函数的返回值，y用于遍历RDD中各个元素。这里，neutral_zero_value指定了返回值的初值（tuple类型），因此seqOp中的x是一个tuple，x[0]表示累加值，x[1]表示计数值，而y依旧表示RDD中各元素的遍历。combOp的作用是对各个Executor上的结果进行合并，比如Executor1上返回结果是(5,3)，Executor2上返回的结果是(4,1)，那么combOp的结果是(5+4,3+1)，即(9,4)"
   ]
  },
  {
   "cell_type": "markdown",
   "metadata": {},
   "source": [
    "### foreach\n",
    "\n"
   ]
  },
  {
   "cell_type": "code",
   "execution_count": 18,
   "metadata": {},
   "outputs": [
    {
     "name": "stdout",
     "output_type": "stream",
     "text": [
      "9\n"
     ]
    }
   ],
   "source": [
    "cnt = sc.accumulator(0)\n",
    "def accumulate(x):\n",
    "    global cnt\n",
    "    cnt += x\n",
    "nums.foreach(accumulate)\n",
    "print cnt.value"
   ]
  },
  {
   "cell_type": "markdown",
   "metadata": {},
   "source": [
    "## 练习：用spark实现wordcount"
   ]
  },
  {
   "cell_type": "code",
   "execution_count": 19,
   "metadata": {
    "scrolled": false
   },
   "outputs": [
    {
     "name": "stdout",
     "output_type": "stream",
     "text": [
      "word:the,count:22\n",
      "word:to,count:11\n",
      "word:of,count:11\n",
      "word:and,count:11\n",
      "word:a,count:10\n",
      "word:their,count:6\n",
      "word:with,count:6\n",
      "word:North,count:5\n"
     ]
    }
   ],
   "source": [
    "tokens = lines.flatMap(lambda x:x.split())\n",
    "word_count = tokens.countByValue()\n",
    "word_count_sort = sorted(word_count.iteritems(),key=lambda x:x[1], reverse=True)\n",
    "for word, count in word_count_sort:\n",
    "    # 过滤掉词频小于5的单词\n",
    "    if count < 5:\n",
    "        break\n",
    "    print 'word:{0},count:{1}'.format(word, count)"
   ]
  },
  {
   "cell_type": "markdown",
   "metadata": {},
   "source": [
    "# 参考\n",
    "\n",
    "1.Learning Spark\n",
    "\n",
    "2.http://www.jianshu.com/p/15739e95a46e\n",
    "\n",
    "3.https://www.iteblog.com/archives/1396.html"
   ]
  }
 ],
 "metadata": {
  "anaconda-cloud": {},
  "kernelspec": {
   "display_name": "Python 2",
   "language": "python",
   "name": "python2"
  },
  "language_info": {
   "codemirror_mode": {
    "name": "ipython",
    "version": 2
   },
   "file_extension": ".py",
   "mimetype": "text/x-python",
   "name": "python",
   "nbconvert_exporter": "python",
   "pygments_lexer": "ipython2",
   "version": "2.7.13"
  }
 },
 "nbformat": 4,
 "nbformat_minor": 1
}
