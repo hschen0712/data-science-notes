{
 "cells": [
  {
   "cell_type": "markdown",
   "metadata": {},
   "source": [
    "# 数据科学笔记\n",
    "\n",
    "主要记录了学习data science过程中使用到的工具以及心得\n",
    "\n",
    "# 目录\n",
    "\n",
    "1.[spark笔记](spark-notes)\n",
    "  - [1.基本rdd操作](spark-notes/basic-rdd-operations.ipynb)"
   ]
  }
 ],
 "metadata": {
  "kernelspec": {
   "display_name": "Python 2",
   "language": "python",
   "name": "python2"
  },
  "language_info": {
   "codemirror_mode": {
    "name": "ipython",
    "version": 2
   },
   "file_extension": ".py",
   "mimetype": "text/x-python",
   "name": "python",
   "nbconvert_exporter": "python",
   "pygments_lexer": "ipython2",
   "version": "2.7.13"
  }
 },
 "nbformat": 4,
 "nbformat_minor": 2
}
